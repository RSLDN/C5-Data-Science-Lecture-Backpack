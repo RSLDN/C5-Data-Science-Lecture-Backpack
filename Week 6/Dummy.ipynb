{
 "cells": [
  {
   "cell_type": "code",
   "execution_count": 40,
   "metadata": {},
   "outputs": [],
   "source": [
    "import pandas as pd\n",
    "import seaborn as sns"
   ]
  },
  {
   "cell_type": "code",
   "execution_count": 41,
   "metadata": {},
   "outputs": [],
   "source": [
    "df = pd.read_csv('insurance.csv')"
   ]
  },
  {
   "cell_type": "code",
   "execution_count": 42,
   "metadata": {},
   "outputs": [
    {
     "data": {
      "text/html": [
       "<div>\n",
       "<style scoped>\n",
       "    .dataframe tbody tr th:only-of-type {\n",
       "        vertical-align: middle;\n",
       "    }\n",
       "\n",
       "    .dataframe tbody tr th {\n",
       "        vertical-align: top;\n",
       "    }\n",
       "\n",
       "    .dataframe thead th {\n",
       "        text-align: right;\n",
       "    }\n",
       "</style>\n",
       "<table border=\"1\" class=\"dataframe\">\n",
       "  <thead>\n",
       "    <tr style=\"text-align: right;\">\n",
       "      <th></th>\n",
       "      <th>age</th>\n",
       "      <th>sex</th>\n",
       "      <th>bmi</th>\n",
       "      <th>children</th>\n",
       "      <th>smoker</th>\n",
       "      <th>region</th>\n",
       "      <th>charges</th>\n",
       "    </tr>\n",
       "  </thead>\n",
       "  <tbody>\n",
       "    <tr>\n",
       "      <th>0</th>\n",
       "      <td>19</td>\n",
       "      <td>female</td>\n",
       "      <td>27.900</td>\n",
       "      <td>0</td>\n",
       "      <td>yes</td>\n",
       "      <td>southwest</td>\n",
       "      <td>16884.92400</td>\n",
       "    </tr>\n",
       "    <tr>\n",
       "      <th>1</th>\n",
       "      <td>18</td>\n",
       "      <td>male</td>\n",
       "      <td>33.770</td>\n",
       "      <td>1</td>\n",
       "      <td>no</td>\n",
       "      <td>southeast</td>\n",
       "      <td>1725.55230</td>\n",
       "    </tr>\n",
       "    <tr>\n",
       "      <th>2</th>\n",
       "      <td>28</td>\n",
       "      <td>male</td>\n",
       "      <td>33.000</td>\n",
       "      <td>3</td>\n",
       "      <td>no</td>\n",
       "      <td>southeast</td>\n",
       "      <td>4449.46200</td>\n",
       "    </tr>\n",
       "    <tr>\n",
       "      <th>3</th>\n",
       "      <td>33</td>\n",
       "      <td>male</td>\n",
       "      <td>22.705</td>\n",
       "      <td>0</td>\n",
       "      <td>no</td>\n",
       "      <td>northwest</td>\n",
       "      <td>21984.47061</td>\n",
       "    </tr>\n",
       "    <tr>\n",
       "      <th>4</th>\n",
       "      <td>32</td>\n",
       "      <td>male</td>\n",
       "      <td>28.880</td>\n",
       "      <td>0</td>\n",
       "      <td>no</td>\n",
       "      <td>northwest</td>\n",
       "      <td>3866.85520</td>\n",
       "    </tr>\n",
       "  </tbody>\n",
       "</table>\n",
       "</div>"
      ],
      "text/plain": [
       "   age     sex     bmi  children smoker     region      charges\n",
       "0   19  female  27.900         0    yes  southwest  16884.92400\n",
       "1   18    male  33.770         1     no  southeast   1725.55230\n",
       "2   28    male  33.000         3     no  southeast   4449.46200\n",
       "3   33    male  22.705         0     no  northwest  21984.47061\n",
       "4   32    male  28.880         0     no  northwest   3866.85520"
      ]
     },
     "execution_count": 42,
     "metadata": {},
     "output_type": "execute_result"
    }
   ],
   "source": [
    "df.head()"
   ]
  },
  {
   "cell_type": "code",
   "execution_count": 74,
   "metadata": {},
   "outputs": [
    {
     "data": {
      "text/plain": [
       "age         1064\n",
       "sex         1064\n",
       "bmi         1064\n",
       "children    1064\n",
       "smoker      1064\n",
       "region      1064\n",
       "charges     1064\n",
       "dtype: int64"
      ]
     },
     "execution_count": 74,
     "metadata": {},
     "output_type": "execute_result"
    }
   ],
   "source": [
    "df[df.smoker == 'yes'].count()"
   ]
  },
  {
   "cell_type": "code",
   "execution_count": 60,
   "metadata": {},
   "outputs": [
    {
     "data": {
      "text/plain": [
       "10839.408303333334"
      ]
     },
     "execution_count": 60,
     "metadata": {},
     "output_type": "execute_result"
    }
   ],
   "source": [
    "below_35 = df[df['age'] < 35]\n",
    "below_both = below_35[below_35['age'] > 30]\n",
    "\n",
    "below_both['charges'].mean()"
   ]
  },
  {
   "cell_type": "code",
   "execution_count": 72,
   "metadata": {},
   "outputs": [
    {
     "data": {
      "text/plain": [
       "3     21984.47061\n",
       "4      3866.85520\n",
       "5      3756.62160\n",
       "23    37701.87680\n",
       "29    38711.00000\n",
       "Name: charges, dtype: float64"
      ]
     },
     "execution_count": 72,
     "metadata": {},
     "output_type": "execute_result"
    }
   ],
   "source": [
    "df[(df['age'] < 35) & (df['age'] > 30)]['charges'].head()"
   ]
  },
  {
   "cell_type": "code",
   "execution_count": 65,
   "metadata": {},
   "outputs": [
    {
     "data": {
      "text/plain": [
       "age\n",
       "18     7086.217556\n",
       "19     9747.909335\n",
       "20    10159.697736\n",
       "21     4730.464330\n",
       "22    10012.932802\n",
       "23    12419.820040\n",
       "24    10648.015962\n",
       "25     9838.365311\n",
       "26     6133.825309\n",
       "27    12184.701721\n",
       "28     9069.187564\n",
       "29    10430.158727\n",
       "30    12719.110358\n",
       "31    10196.980573\n",
       "32     9220.300291\n",
       "33    12351.532987\n",
       "34    11613.528121\n",
       "35    11307.182031\n",
       "36    12204.476138\n",
       "37    18019.911877\n",
       "38     8102.733674\n",
       "39    11778.242945\n",
       "40    11772.251310\n",
       "41     9653.745650\n",
       "42    13061.038669\n",
       "43    19267.278653\n",
       "44    15859.396587\n",
       "45    14830.199856\n",
       "46    14342.590639\n",
       "47    17653.999593\n",
       "48    14632.500445\n",
       "49    12696.006264\n",
       "50    15663.003301\n",
       "51    15682.255867\n",
       "52    18256.269719\n",
       "53    16020.930755\n",
       "54    18758.546475\n",
       "55    16164.545488\n",
       "56    15025.515837\n",
       "57    16447.185250\n",
       "58    13878.928112\n",
       "59    18895.869532\n",
       "60    21979.418507\n",
       "61    22024.457609\n",
       "62    19163.856573\n",
       "63    19884.998461\n",
       "64    23275.530837\n",
       "Name: charges, dtype: float64"
      ]
     },
     "execution_count": 65,
     "metadata": {},
     "output_type": "execute_result"
    }
   ],
   "source": [
    "df.groupby('age')['charges'].mean()"
   ]
  },
  {
   "cell_type": "code",
   "execution_count": 71,
   "metadata": {},
   "outputs": [
    {
     "data": {
      "text/plain": [
       "age\n",
       "18     7086.217556\n",
       "19     9747.909335\n",
       "20    10159.697736\n",
       "21     4730.464330\n",
       "22    10012.932802\n",
       "23    12419.820040\n",
       "24    10648.015962\n",
       "25     9838.365311\n",
       "26     6133.825309\n",
       "27    12184.701721\n",
       "28     9069.187564\n",
       "29    10430.158727\n",
       "30    12719.110358\n",
       "31    10196.980573\n",
       "32     9220.300291\n",
       "33    12351.532987\n",
       "34    11613.528121\n",
       "35    11307.182031\n",
       "36    12204.476138\n",
       "37    18019.911877\n",
       "38     8102.733674\n",
       "39    11778.242945\n",
       "40    11772.251310\n",
       "41     9653.745650\n",
       "42    13061.038669\n",
       "43    19267.278653\n",
       "44    15859.396587\n",
       "45    14830.199856\n",
       "46    14342.590639\n",
       "47    17653.999593\n",
       "48    14632.500445\n",
       "49    12696.006264\n",
       "50    15663.003301\n",
       "51    15682.255867\n",
       "52    18256.269719\n",
       "53    16020.930755\n",
       "54    18758.546475\n",
       "55    16164.545488\n",
       "56    15025.515837\n",
       "57    16447.185250\n",
       "58    13878.928112\n",
       "59    18895.869532\n",
       "60    21979.418507\n",
       "61    22024.457609\n",
       "62    19163.856573\n",
       "63    19884.998461\n",
       "64    23275.530837\n",
       "Name: charges, dtype: float64"
      ]
     },
     "execution_count": 71,
     "metadata": {},
     "output_type": "execute_result"
    }
   ],
   "source": [
    "grouped = df.groupby('age')\n",
    "\n",
    "grouped['charges'].mean()"
   ]
  }
 ],
 "metadata": {
  "kernelspec": {
   "display_name": "Python 3",
   "language": "python",
   "name": "python3"
  },
  "language_info": {
   "codemirror_mode": {
    "name": "ipython",
    "version": 3
   },
   "file_extension": ".py",
   "mimetype": "text/x-python",
   "name": "python",
   "nbconvert_exporter": "python",
   "pygments_lexer": "ipython3",
   "version": "3.11.3"
  }
 },
 "nbformat": 4,
 "nbformat_minor": 2
}
